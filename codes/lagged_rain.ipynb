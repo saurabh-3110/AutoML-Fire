{
 "cells": [
  {
   "cell_type": "code",
   "execution_count": null,
   "id": "2eac1443",
   "metadata": {},
   "outputs": [],
   "source": [
    "import pandas as pd\n",
    "df= pd.read_csv(\"final_top_30_grids_combined.csv\",index_col=0) # Change to cluster file if needed (Eg: cluster_0_combined.csv)\n",
    "\n",
    "# Step 3: Convert the 'Date' column to a datetime object\n",
    "df['Date'] = pd.to_datetime(df['Date'], format='%Y%m%d')\n",
    "\n",
    "# Step 4: Create a new column 'Year' from the 'Date' column\n",
    "df['Year'] = df['Date'].dt.year\n",
    "\n",
    "# Step 5: Group the data by 'Lat', 'Lon', and 'Year' to calculate the annual rainfall\n",
    "annual_rainfall = df.groupby(['Lat', 'Lon', 'Year'])['rain'].mean().reset_index()\n",
    "\n",
    "# Step 6: Shift the annual rainfall by one year for each 'Lat' and 'Lon' pair\n",
    "annual_rainfall['rain_shifted'] = annual_rainfall.groupby(['Lat', 'Lon'])['rain'].shift(1)\n",
    "\n",
    "# Step 7: Merge this shifted rainfall data back into the original DataFrame\n",
    "df = pd.merge(df, annual_rainfall[['Lat', 'Lon', 'Year', 'rain_shifted']], on=['Lat', 'Lon', 'Year'], how='left')\n",
    "\n",
    "# Step 8: Drop the 'Year', Lat', 'Lon','Date' and original 'rain' columns\n",
    "df.drop(columns=['Year','Lat', 'Lon','Date','rain'], inplace=True)\n",
    "\n",
    "df = df.dropna()\n",
    "\n",
    "columns = df.columns.tolist()\n",
    "if 'fire_count' in columns:\n",
    "    columns.remove('fire_count')\n",
    "    columns.append('fire_count')\n",
    "    df_aa = df[columns]\n",
    "\n",
    "#Step 9: Save the DataFrame to a new CSV file\n",
    "df.to_csv('final_files/top30_rain_shifted', index=False) ## For cluster file, change to cluster_0_rain_shifted.csv\n",
    "\n"
   ]
  },
  {
   "cell_type": "code",
   "execution_count": null,
   "id": "426c32e6",
   "metadata": {},
   "outputs": [],
   "source": []
  }
 ],
 "metadata": {
  "language_info": {
   "name": "python"
  }
 },
 "nbformat": 4,
 "nbformat_minor": 5
}
