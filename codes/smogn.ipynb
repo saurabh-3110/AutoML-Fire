{
 "cells": [
  {
   "cell_type": "code",
   "execution_count": null,
   "id": "d44e55e8",
   "metadata": {},
   "outputs": [],
   "source": [
    "## load dependencies\n",
    "import smogn\n",
    "import pandas\n",
    "import seaborn\n",
    "\n",
    "data = pandas.read_csv('final_files/top30_rain_shifted')   # chnange for clusters. for example, 'final_files/cluster_0_rain_shifted'\n",
    "## conduct smogn\n",
    "fire_smogn = smogn.smoter(\n",
    "    \n",
    "    ## main arguments\n",
    "    data = data,           ## pandas dataframe\n",
    "    y = 'fire_count',          ## string ('header name')\n",
    "    k = 5,                    ## positive integer (k < n) Reduce k if error of \"includes NaN values\" occurs\n",
    "    samp_method = 'balance',  ## string ('balance' or 'extreme')\n",
    ")\n",
    "\n",
    "fire_smogn.to_csv(\"oversampled_data/top30_oversampled\",index=False)  # Save according to your needs, e.g. 'oversampled_data/cluster_0_oversampled'"
   ]
  }
 ],
 "metadata": {
  "language_info": {
   "name": "python"
  }
 },
 "nbformat": 4,
 "nbformat_minor": 5
}
