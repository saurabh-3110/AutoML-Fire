{
 "cells": [
  {
   "cell_type": "code",
   "execution_count": null,
   "id": "1c810f3b",
   "metadata": {},
   "outputs": [],
   "source": [
    "import pandas as pd\n",
    "\n",
    "df1 = pd.read_csv(\"variables/cloudcover.csv\")\n",
    "df2 = pd.read_csv(\"variables/humidity.csv\")\n",
    "df3 = pd.read_csv(\"variables/windspeed.csv\")\n",
    "df4 = pd.read_csv(\"variables/cloudcover.csv\")\n",
    "df5 = pd.read_csv(\"variables/ndvi.csv\")\n",
    "df6 = pd.read_csv(\"variables/forestcover.csv\")\n",
    "df7 = pd.read_csv(\"variables/tmax.csv\")\n",
    "df8 = pd.read_csv(\"variables/tmin.csv\")\n",
    "df9 = pd.read_csv(\"variables/elevation.csv\")\n",
    "df10 = pd.read_csv(\"variables/rain.csv\")\n",
    "df11 = pd.read_csv(\"variables/population.csv\")\n",
    "df12 = pd.read_csv(\"variables/firecount.csv\")\n",
    "\n",
    "df1=df1.drop(0)\n",
    "df2=df2.drop(0)\n",
    "df3=df3.drop(0)\n",
    "df4=df4.drop(0)\n",
    "df5=df5.drop(0)\n",
    "df6=df6.drop(0)\n",
    "df7=df7.drop(0)\n",
    "df8=df8.drop(0)\n",
    "df9=df9.drop(0)\n",
    "df10=df10.drop(0)\n",
    "df11=df11.drop(0)\n",
    "df12=df12.drop(0)\n",
    "\n",
    "import pandas as pd\n",
    "\n",
    "# Initialize an empty dataframe to hold the combined data\n",
    "combined_data = pd.DataFrame()\n",
    "\n",
    "# Iterate through the dataframes and preprocess them before merging\n",
    "for i in range(1, 13):  # Assuming you have 8 dataframes named df1, df2, ..., df8\n",
    "    df_name = 'df' + str(i)\n",
    "    if df_name in globals():  # Check if the dataframe exists\n",
    "        df = globals()[df_name]\n",
    "        print(f\"Processing {df_name}\")\n",
    "\n",
    "        # Convert 'Lat' and 'Lon' columns to numeric values\n",
    "        df['Lat'] = pd.to_numeric(df['Lat'], errors='coerce')\n",
    "        df['Lon'] = pd.to_numeric(df['Lon'], errors='coerce')\n",
    "\n",
    "        # Remove rows with non-numeric values in 'Lat' and 'Lon' columns\n",
    "        df = df.dropna(subset=['Lat', 'Lon'])\n",
    "\n",
    "        if not combined_data.empty:\n",
    "            combined_data = pd.merge(combined_data, df, on=['Lat', 'Lon', 'Date'], how='outer', sort=True)\n",
    "        else:\n",
    "            combined_data = df.copy()\n",
    "\n",
    "\n",
    "combined_data = combined_data.dropna()\n",
    "\n",
    "# Reset index\n",
    "combined_data.reset_index(drop=True, inplace=True)\n",
    "\n",
    "# Save the combined dataframe to a CSV file\n",
    "combined_data.to_csv(\"combined_file_all_grids.csv\", index=False)\n"
   ]
  },
  {
   "cell_type": "markdown",
   "id": "ba6868fb",
   "metadata": {},
   "source": [
    "# Determining top 30 griids"
   ]
  },
  {
   "cell_type": "code",
   "execution_count": null,
   "id": "35b134cd",
   "metadata": {},
   "outputs": [],
   "source": [
    "import pandas as pd\n",
    "\n",
    "# 1. Read the fire data\n",
    "fire_data = pd.read_csv('variables/firecount.csv')  # Replace 'fire_data.csv' with the path to your file\n",
    "\n",
    "# Group the data by grid cell (latitude and longitude) and sum the fire counts for each grid cell across all days\n",
    "grouped_data = fire_data.groupby(['Lat', 'Lon'])['fire_count'].sum()\n",
    "\n",
    "# Calculate the total number of fire counts in the dataset\n",
    "total_counts = grouped_data.sum()\n",
    "\n",
    "# Sort the grid cells based on the summed fire counts\n",
    "sorted_cells = grouped_data.sort_values(ascending=False)\n",
    "\n",
    "# Calculate the threshold for the top 10% of grid cells\n",
    "top_30_percent_threshold = sorted_cells.quantile(0.70)\n",
    "\n",
    "# Filter the grid cells to retain only those that exceed the threshold\n",
    "top_30_percent_cells = sorted_cells[sorted_cells >= top_30_percent_threshold]\n",
    "\n",
    "\n",
    "# Save the top 10% grid cells to a CSV file\n",
    "top_30_percent_cells.to_csv('final_top_30_grids.csv', header=True)"
   ]
  },
  {
   "cell_type": "markdown",
   "id": "fc6beb88",
   "metadata": {},
   "source": [
    "# Final Combined data of top 30 grids"
   ]
  },
  {
   "cell_type": "code",
   "execution_count": null,
   "id": "2f37cfcf",
   "metadata": {},
   "outputs": [],
   "source": [
    "import pandas as pd\n",
    "\n",
    "df1 = pd.read_csv('combined_file_all_grids.csv')\n",
    "df2 = pd.read_csv('final_top_30_grids.csv')\n",
    "\n",
    "# Merge the first dataframe with the unique Lat and Lon values from the second dataframe\n",
    "merged_df = pd.merge(combined_data, df2, on=['Lat', 'Lon'], how='inner')\n",
    "\n",
    "# Display the resulting dataframe with matching Lat and Lon values\n",
    "sorted_df = merged_df.sort_values(by=['Lat', 'Lon'])\n",
    "\n",
    "# Save the sorted dataframe to a CSV file\n",
    "sorted_df.to_csv('final_top_30_grids_combined.csv', index=False)"
   ]
  }
 ],
 "metadata": {
  "kernelspec": {
   "display_name": "Python 3",
   "language": "python",
   "name": "python3"
  },
  "language_info": {
   "codemirror_mode": {
    "name": "ipython",
    "version": 3
   },
   "file_extension": ".py",
   "mimetype": "text/x-python",
   "name": "python",
   "nbconvert_exporter": "python",
   "pygments_lexer": "ipython3",
   "version": "3.9.6"
  }
 },
 "nbformat": 4,
 "nbformat_minor": 5
}
